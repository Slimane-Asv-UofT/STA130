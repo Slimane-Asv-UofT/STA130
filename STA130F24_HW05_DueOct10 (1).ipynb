{
 "cells": [
  {
   "cell_type": "markdown",
   "id": "5ae681ef",
   "metadata": {},
   "source": [
    "# STA130 Homework 05 \n",
    "\n",
    "Please see the course [wiki-textbook](https://github.com/pointOfive/stat130chat130/wiki) for the list of topics covered in this homework assignment, and a list of topics that might appear during ChatBot conversations which are \"out of scope\" for the purposes of this homework assignment (and hence can be safely ignored if encountered)"
   ]
  },
  {
   "cell_type": "markdown",
   "id": "5d4637b0",
   "metadata": {},
   "source": [
    "### 2. Towards the end of the \"first pre-lecture\" video (above) it is stated that, \"It is important to note that outcomes of tests refer to the population parameter, rather than the sample statistic! As such, the result that we get is for the population.\" In terms of the distinctions between the concepts of $x_i\\!$'s, $\\bar x$, $\\mu$, and $\\mu_0$, how would you describe what the sentence above means? Explain this concisely in you\n",
    "\n",
    "\n"
   ]
  },
  {
   "cell_type": "markdown",
   "id": "506dc82b",
   "metadata": {},
   "source": [
    "From my understanding :\n",
    "\n",
    "x is an individual datapoint in the sample\n",
    "x_ (the second one) is the average of all the x's in the sample, which is an estimate of u\n",
    "u is the population mean\n",
    "u0 is the hypothetized value of the population mean that we are testing against.\n",
    "\n",
    "I beleive the sentence means that the ultimate goal is to draw conclusions about the population parameter (u), rather than just describing u_"
   ]
  },
  {
   "cell_type": "markdown",
   "id": "8362fa03",
   "metadata": {},
   "source": [
    "### 4. The second \"Pre-lecture\" video (above) suggests that a smaller p-value makes the null hypothesis look more ridiculous. Explain why this is in your own words in a way that makes the most sense to you, clarifying the meaning of any technical statistical terminology you use in your answer.<br>\n"
   ]
  },
  {
   "cell_type": "markdown",
   "id": "76d819f5",
   "metadata": {},
   "source": [
    "The null hypothesis is the idea that there is \"no effect\" on the population. FOr example, with the vaccine example of the last lecture, it is the hypothesis that the vaccine has no effect.\n",
    "\n",
    "The p value is the probability to obtain \"abnormal/extrem data\" (basically, data that's very far from what's excecpected with the null hypothesis. \n",
    "\n",
    "If the p value being small makes the probability of getting the results obtained with the null hypothesis being tru quite unlikely, which means the null hypothesis can be rejected.\n",
    "\n",
    "Ex: To retake the vaccine example, if we have a p value for the obtain data of 0.00002, it means that we only had a 0.002% of obtaining that data, which is ridulously small. So, bya probability standpoint, it's more likely that the null hypothesis is false."
   ]
  },
  {
   "cell_type": "markdown",
   "id": "1f8ddd69",
   "metadata": {},
   "source": [
    "## \"Post-lecture\" HW [*submission along with \"Pre-lecture\" HW is due prior to next TUT*]"
   ]
  },
  {
   "cell_type": "markdown",
   "id": "1c953507",
   "metadata": {},
   "source": [
    "### 8. Complete the following assignment. "
   ]
  },
  {
   "cell_type": "markdown",
   "id": "674f9956",
   "metadata": {},
   "source": [
    "### Fisher's Tea Experiment\n",
    "\n",
    "**Overview**\n",
    "\n",
    "A most beloved piece of [statistical lore](https://rss.onlinelibrary.wiley.com/doi/full/10.1111/j.1740-9713.2012.00620.x) about the (most famous) statistician Ronald Fisher involves cups of tea with milk. Fisher and his friend and colleague, Dr. Muriel Bristol, worked at Cambridge in the 1920s and regularly had tea together. During one of their afternoon tea times, Bristol refused a cup of tea from Fisher because he put milk in first BEFORE pouring in the tea. Bristol said she could taste the difference, and much preferred the taste of tea when the milk was poured in afterward the tea. Fisher didn't think that there could be a difference and proposed a hypothesis test to examine the situation.\n",
    "\n",
    "Fisher made 8 cups of tea, 4 with milk added in first and 4 with tea added in first, and gave them to Dr. Bristol without her seeing how they were made and she would say if she thought the tea or the milk was poured first. As it turned out, Bristol correctly identified if the tea or milk was poured first for all 8 of the cups. Fisher, being a skeptical statistician wanted to test if this could be happening by chance with Bristol just randomly guessing (or whether there was evidence against an assumption of Bristol just randomly guessing), and subsequently designed a statistical hypothesis test to do so.\n",
    "\n",
    "Suppose you run an experiment like this with students in STA130. You get a random sample of 80 STA130 students to each taste one cup of tea and tell you whether they think the milk or tea was poured first. **Suppose 49 students are able to correctly state which was poured first.** Provide a statistical analysis of this experiment as guided through the following set of questions.\n",
    "\n",
    "**Data**\n",
    "\n",
    "49 out of a sample of 80 students are able to correctly state which was poured first.\n",
    "\n",
    "**Deliverables**\n",
    "\n",
    "While you can choose how to approach the project, we are interested in evaluating your report relative to the following deliverables: \n",
    "- Clarity of your documentation, code, and written report \n",
    "- Description of the population (and sample) and parameter of interest (and corresponding observed test statistic) \n",
    "- Formal null hypotheses $H_0$ \n",
    "    - Provide a formal version $H_0$ based on the population parameter \n",
    "    - Provide an informal interpretive statement explaining $H_0$ in more casual everyday common language\n",
    "    - Alternative hypothesis $H_A$ in terms of $H_0$\n",
    "- Quantitative analysis addressing the validity of $H_0$\n",
    "    - Explanation of the method clearly articulating the purpose of the usage of statistic(s) to address $H_0$ the population parameter of interest \n",
    "\n",
    "\n",
    "**Comments**\n",
    "\n",
    "- Regarding the population (and the sample), there is a clear difference between the experiment with STA130 students considered here and the original motivating experimental context of Fisher and Bristol.\n",
    "    - the sample size is different.\n",
    "    - but so too is the nature of the population. the parameter in question might be considered more personalized in the original experiment; whereas, the parameter in the context of STA130 students might be a more abstract concept\n",
    "- The analysis here could be approached from the perspective of formal hypothesis testing.\n",
    "    - which would likely involve the simulation of a sampling distribution under $H_0$ in order to estimate p-value with respect to the null hypothesis based on the observed test statistic (how?), concluding with the assement of $H_0$ based on an interpretation of the meaning of the p-value relative to $H_0$\n",
    "    - but a confidence interval approach to considering the hypothesis could also be considered.\n",
    "\n",
    "> Consider organizing your report within the following outline template.\n",
    "> - Problem Introduction \n",
    ">     - Relationship between this experiment and the original with Fisher and Bristol\n",
    ">     - Statements of the Null Hypothesis and Alternative hypothesis\n",
    "> - Quantitative Analysis\n",
    ">     - Methodology Code and Explanations\n",
    ">     - *(if needed/optional)* Supporting Visualizations \n",
    "> - Findings and Discussion\n",
    ">     - Conclusion regarding the Null Hypothesis\n",
    "\n",
    "#### Further Instructions:\n",
    "- When using random functions, you should make your analysis reproducible by using the `np.random.seed()` function\n"
   ]
  },
  {
   "cell_type": "markdown",
   "id": "d7205936",
   "metadata": {},
   "source": [
    "This experiment wants to clarify if there is indeed an impact of the order of pouring on tha taste, or if Bristol was just really lucky in his guesses.\n",
    "\n",
    "Null hypothesis : The order of pouring does NOT impact the taste.\n",
    "Alternartivz hypothesis : The order of pouring does have an impact onf the taste.\n",
    "\n",
    "The following code was made with the help of CHATGTP, but some parts were by me :"
   ]
  },
  {
   "cell_type": "code",
   "execution_count": 2,
   "id": "b30707a0",
   "metadata": {},
   "outputs": [
    {
     "name": "stdout",
     "output_type": "stream",
     "text": [
      "P-value (binomial test): 0.028332213172560572\n",
      "P-value (normal approximation): 0.022085672454221217\n"
     ]
    },
    {
     "name": "stderr",
     "output_type": "stream",
     "text": [
      "/tmp/ipykernel_71/183217015.py:14: DeprecationWarning: 'binom_test' is deprecated in favour of 'binomtest' from version 1.7.0 and will be removed in Scipy 1.12.0.\n",
      "  p_value_binomial = stats.binom_test(k, n, p_0, alternative='greater')\n"
     ]
    },
    {
     "data": {
      "image/png": "[encoded data removed]",
      "text/plain": [
       "<Figure size 640x480 with 1 Axes>"
      ]
     },
     "metadata": {},
     "output_type": "display_data"
    }
   ],
   "source": [
    "import numpy as np\n",
    "import scipy.stats as stats\n",
    "import matplotlib.pyplot as plt\n",
    "\n",
    "# Seting the seed\n",
    "np.random.seed(21012006) # 21 - 01 - 2006 is my birthday, I took it to prove I did this part of the code\n",
    "\n",
    "# Data\n",
    "n = 80  # Sample size (Number of students)\n",
    "k = 49  # Number of students who were right\n",
    "p_0 = 0.5  # Probability of the null hypothesis (0.5 because they are either right or wrong with 1/2 chances)\n",
    "\n",
    "# Binomial test (done by ChatGTP)\n",
    "p_value_binomial = stats.binom_test(k, n, p_0, alternative='greater')\n",
    "print(f\"P-value (binomial test): {p_value_binomial}\")\n",
    "\n",
    "# 2. Normal approximation\n",
    "# Sample proportion\n",
    "p_hat = k / n\n",
    "\n",
    "# Standard error under the null hypothesis\n",
    "se = np.sqrt(p_0 * (1 - p_0) / n)\n",
    "\n",
    "# Z-score for normal approximation\n",
    "z = (p_hat - p_0) / se\n",
    "\n",
    "# P-value using the normal approximation\n",
    "p_value_normal = 1 - stats.norm.cdf(z)\n",
    "print(f\"P-value (normal approximation): {p_value_normal}\")\n",
    "\n",
    "# 3. Visualizing the binomial distribution assuming the null hypothesis is right\n",
    "# Generate the binomial distribution under the null hypothesis\n",
    "x = np.arange(0, n+1)\n",
    "binom_pmf = stats.binom.pmf(x, n, p_0)\n",
    "\n",
    "# Plot the distribution\n",
    "plt.bar(x, binom_pmf, color='lightblue')\n",
    "plt.axvline(k, color='red', linestyle='--', label=f'Observed = {k}')\n",
    "plt.title('Binomial Distribution under H0')\n",
    "plt.xlabel('Number of Correct Responses')\n",
    "plt.ylabel('Probability')\n",
    "plt.legend()\n",
    "plt.show()\n"
   ]
  },
  {
   "cell_type": "markdown",
   "id": "9a9cfc5f",
   "metadata": {},
   "source": [
    " We can see it's quite unlikely that 49 students were right by random luck, so we an reject the null hypothesis and conclude that the order indeed has an effect on the taste !"
   ]
  }
 ],
 "metadata": {
  "kernelspec": {
   "display_name": "Python 3 (ipykernel)",
   "language": "python",
   "name": "python3"
  },
  "language_info": {
   "codemirror_mode": {
    "name": "ipython",
    "version": 3
   },
   "file_extension": ".py",
   "mimetype": "text/x-python",
   "name": "python",
   "nbconvert_exporter": "python",
   "pygments_lexer": "ipython3",
   "version": "3.11.6"
  }
 },
 "nbformat": 4,
 "nbformat_minor": 5
}
