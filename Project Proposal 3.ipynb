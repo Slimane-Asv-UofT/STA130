{
 "cells": [
  {
   "cell_type": "markdown",
   "id": "56998566",
   "metadata": {},
   "source": [
    "**Does a controlled exposure to sunlight impact short-term memory performance?**\n",
    "\n",
    "Take students in the morning to nesure minimal exposure to sunlight, divide them y groups, expose each group to a certain amount of sunlight and test their memorizatioin capacity !\n",
    "\n",
    "**Variables**\n",
    "\n",
    "**Sunlight Exposure (independent variable):** This variable will measure the average daily sunlight exposure in hours. We’ll categorize it into ranges (e.g., 0-1 hours, 1-2 hours, etc., up to 5+ hours) as the X variable in a Single Linear Regression model.\n",
    "\n",
    "- Histogram: A histogram to show the distribution of sunlight exposure times could reveal common exposure levels among participants (x-axis: sunlight exposure in hours, y-axis: frequency of participants).\n",
    "\n",
    "**Memory Performance (dependent variable):** Memory performance will be assessed using a short-term memory test (such as a word recall or number sequence test). Scores will reflect the percentage of correctly recalled items, serving as the Y variable in the linear regression model.\n",
    "\n",
    "- Box Plot: Box plots for each sunlight exposure category could help display differences in memory performance and any variability within groups.\n",
    "\n",
    "**Participant Characteristics (control variables):** Control variables may include age, physical activity level, mental health status, and daily sleep duration, as these factors might also influence memory performance.\n",
    "\n",
    "Analyzing these characteristics will help isolate the effect of sunlight exposure, allowing us to determine if other lifestyle factors contribute to memory performance variations.\n",
    "\n",
    "\n",
    "Analysis and Methods:\n",
    "\n",
    "**Hypothesis Testing:**\n",
    "\n",
    "We will test the hypothesis that increased sunlight exposure correlates positively with better short-term memory, aiming to reject the null hypothesis that sunlight exposure has no effect on memory.\n",
    "\n",
    "Linear Regression Analysis:\n",
    "A simple linear regression will examine the relationship between daily sunlight exposure and memory performance scores, allowing us to see if memory improves with more sunlight exposure.\n",
    "\n",
    "Control Analysis:\n",
    "By analyzing the data while controlling for lifestyle factors like sleep duration and physical activity, we can identify if these variables modify or interact with the main relationship. This additional analysis may reveal if sunlight’s effect on memory holds across different lifestyle conditions."
   ]
  },
  {
   "cell_type": "code",
   "execution_count": null,
   "id": "337bb1b1",
   "metadata": {},
   "outputs": [],
   "source": []
  }
 ],
 "metadata": {
  "kernelspec": {
   "display_name": "Python 3 (ipykernel)",
   "language": "python",
   "name": "python3"
  },
  "language_info": {
   "codemirror_mode": {
    "name": "ipython",
    "version": 3
   },
   "file_extension": ".py",
   "mimetype": "text/x-python",
   "name": "python",
   "nbconvert_exporter": "python",
   "pygments_lexer": "ipython3",
   "version": "3.11.6"
  }
 },
 "nbformat": 4,
 "nbformat_minor": 5
}
