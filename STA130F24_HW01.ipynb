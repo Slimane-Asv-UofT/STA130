{
 "cells": [
  {
   "cell_type": "code",
   "execution_count": 6,
   "id": "6efddf82",
   "metadata": {},
   "outputs": [
    {
     "data": {
      "text/plain": [
       "row_n           0\n",
       "id              1\n",
       "name            0\n",
       "gender          0\n",
       "species         0\n",
       "birthday        0\n",
       "personality     0\n",
       "song           11\n",
       "phrase          0\n",
       "full_id         0\n",
       "url             0\n",
       "dtype: int64"
      ]
     },
     "execution_count": 6,
     "metadata": {},
     "output_type": "execute_result"
    }
   ],
   "source": [
    "import pandas as pd\n",
    "url = \"https://raw.githubusercontent.com/rfordatascience/tidytuesday/master/data/2020/2020-05-05/villagers.csv\"\n",
    "df = pd.read_csv(url)\n",
    "df.isna().sum()"
   ]
  },
  {
   "cell_type": "code",
   "execution_count": 3,
   "id": "1742e063",
   "metadata": {},
   "outputs": [
    {
     "name": "stdout",
     "output_type": "stream",
     "text": [
      "The dataset has 391 rows and 11 columns.\n"
     ]
    }
   ],
   "source": [
    "import pandas as pd\n",
    "\n",
    "# Load the dataset from the URL\n",
    "url = \"https://raw.githubusercontent.com/rfordatascience/tidytuesday/master/data/2020/2020-05-05/villagers.csv\"\n",
    "villagers_df = pd.read_csv(url)\n",
    "\n",
    "# Get the number of rows and columns\n",
    "rows, columns = villagers_df.shape\n",
    "\n",
    "print(f\"The dataset has {rows} rows and {columns} columns.\")\n",
    "\n"
   ]
  },
  {
   "cell_type": "code",
   "execution_count": null,
   "id": "f7566fda",
   "metadata": {},
   "outputs": [],
   "source": [
    "From my understanding, an observation is all the information on a single and specific subject, here being a row. \n",
    "A variable (in columns) are a particular type of information. Exemple from the lecture 1, a variable would be the \"type 1\" for the pokemon dataset, and an observation all the information about a specific pokemon.\n",
    " "
   ]
  },
  {
   "cell_type": "code",
   "execution_count": 4,
   "id": "3a5300cf",
   "metadata": {},
   "outputs": [
    {
     "name": "stdout",
     "output_type": "stream",
     "text": [
      "            row_n\n",
      "count  391.000000\n",
      "mean   239.902813\n",
      "std    140.702672\n",
      "min      2.000000\n",
      "25%    117.500000\n",
      "50%    240.000000\n",
      "75%    363.500000\n",
      "max    483.000000\n"
     ]
    }
   ],
   "source": [
    "import pandas as pd\n",
    "\n",
    "# Load the dataset from the URL\n",
    "url = \"https://raw.githubusercontent.com/rfordatascience/tidytuesday/master/data/2020/2020-05-05/villagers.csv\"\n",
    "villagers_df = pd.read_csv(url)\n",
    "\n",
    "# Summary statistics for numerical columns\n",
    "summary_numerical = villagers_df.describe()\n",
    "\n",
    "print(summary_numerical)\n"
   ]
  },
  {
   "cell_type": "code",
   "execution_count": 5,
   "id": "171c0673",
   "metadata": {},
   "outputs": [
    {
     "name": "stdout",
     "output_type": "stream",
     "text": [
      "             id     name gender species birthday personality          song  \\\n",
      "count       390      391    391     391      391         391           380   \n",
      "unique      390      391      2      35      361           8            92   \n",
      "top     admiral  Admiral   male     cat     1-27        lazy  K.K. Country   \n",
      "freq          1        1    204      23        2          60            10   \n",
      "\n",
      "         phrase           full_id  \\\n",
      "count       391               391   \n",
      "unique      388               391   \n",
      "top     wee one  villager-admiral   \n",
      "freq          2                 1   \n",
      "\n",
      "                                                      url  \n",
      "count                                                 391  \n",
      "unique                                                391  \n",
      "top     https://villagerdb.com/images/villagers/thumb/...  \n",
      "freq                                                    1  \n"
     ]
    }
   ],
   "source": [
    "# Summary of categorical columns\n",
    "summary_categorical = villagers_df.describe(include=['object'])\n",
    "\n",
    "print(summary_categorical)\n"
   ]
  },
  {
   "cell_type": "code",
   "execution_count": 6,
   "id": "554054ad",
   "metadata": {},
   "outputs": [
    {
     "name": "stdout",
     "output_type": "stream",
     "text": [
      "\n",
      "Value counts for column 'id':\n",
      "id\n",
      "admiral    1\n",
      "mott       1\n",
      "paula      1\n",
      "patty      1\n",
      "pate       1\n",
      "          ..\n",
      "eloise     1\n",
      "elmer      1\n",
      "ellie      1\n",
      "elise      1\n",
      "zucker     1\n",
      "Name: count, Length: 390, dtype: int64\n",
      "\n",
      "Value counts for column 'name':\n",
      "name\n",
      "Admiral    1\n",
      "Muffy      1\n",
      "Paula      1\n",
      "Patty      1\n",
      "Pate       1\n",
      "          ..\n",
      "Elvis      1\n",
      "Eloise     1\n",
      "Elmer      1\n",
      "Ellie      1\n",
      "Zucker     1\n",
      "Name: count, Length: 391, dtype: int64\n",
      "\n",
      "Value counts for column 'gender':\n",
      "gender\n",
      "male      204\n",
      "female    187\n",
      "Name: count, dtype: int64\n",
      "\n",
      "Value counts for column 'species':\n",
      "species\n",
      "cat          23\n",
      "rabbit       20\n",
      "frog         18\n",
      "squirrel     18\n",
      "duck         17\n",
      "dog          16\n",
      "cub          16\n",
      "pig          15\n",
      "bear         15\n",
      "mouse        15\n",
      "horse        15\n",
      "bird         13\n",
      "penguin      13\n",
      "sheep        13\n",
      "elephant     11\n",
      "wolf         11\n",
      "ostrich      10\n",
      "deer         10\n",
      "eagle         9\n",
      "gorilla       9\n",
      "chicken       9\n",
      "koala         9\n",
      "goat          8\n",
      "hamster       8\n",
      "kangaroo      8\n",
      "monkey        8\n",
      "anteater      7\n",
      "hippo         7\n",
      "tiger         7\n",
      "alligator     7\n",
      "lion          7\n",
      "bull          6\n",
      "rhino         6\n",
      "cow           4\n",
      "octopus       3\n",
      "Name: count, dtype: int64\n",
      "\n",
      "Value counts for column 'birthday':\n",
      "birthday\n",
      "1-27     2\n",
      "12-5     2\n",
      "7-31     2\n",
      "3-26     2\n",
      "8-3      2\n",
      "        ..\n",
      "4-3      1\n",
      "10-26    1\n",
      "7-23     1\n",
      "12-8     1\n",
      "3-8      1\n",
      "Name: count, Length: 361, dtype: int64\n",
      "\n",
      "Value counts for column 'personality':\n",
      "personality\n",
      "lazy      60\n",
      "normal    59\n",
      "cranky    55\n",
      "snooty    55\n",
      "jock      55\n",
      "peppy     49\n",
      "smug      34\n",
      "uchi      24\n",
      "Name: count, dtype: int64\n",
      "\n",
      "Value counts for column 'song':\n",
      "song\n",
      "K.K. Country     10\n",
      "Forest Life       9\n",
      "Imperial K.K.     7\n",
      "K.K. Soul         7\n",
      "K.K. Ragtime      7\n",
      "                 ..\n",
      "Aloha K.K.        2\n",
      "Drivin'           1\n",
      "Senor K.K.        1\n",
      "K.K.  Bazaar      1\n",
      "K.K. D&B          1\n",
      "Name: count, Length: 92, dtype: int64\n",
      "\n",
      "Value counts for column 'phrase':\n",
      "phrase\n",
      "wee one       2\n",
      "quacko        2\n",
      "bloop         2\n",
      "aye aye       1\n",
      "snoot         1\n",
      "             ..\n",
      "lambchop      1\n",
      "yeah buddy    1\n",
      "chow down     1\n",
      "unh-hunh      1\n",
      "pronk         1\n",
      "Name: count, Length: 388, dtype: int64\n",
      "\n",
      "Value counts for column 'full_id':\n",
      "full_id\n",
      "villager-admiral    1\n",
      "villager-muffy      1\n",
      "villager-paula      1\n",
      "villager-patty      1\n",
      "villager-pate       1\n",
      "                   ..\n",
      "villager-elvis      1\n",
      "villager-eloise     1\n",
      "villager-elmer      1\n",
      "villager-ellie      1\n",
      "villager-zucker     1\n",
      "Name: count, Length: 391, dtype: int64\n",
      "\n",
      "Value counts for column 'url':\n",
      "url\n",
      "https://villagerdb.com/images/villagers/thumb/admiral.98206ee.png    1\n",
      "https://villagerdb.com/images/villagers/thumb/muffy.1497c92.png      1\n",
      "https://villagerdb.com/images/villagers/thumb/paula.563ba81.png      1\n",
      "https://villagerdb.com/images/villagers/thumb/patty.3e17f7f.png      1\n",
      "https://villagerdb.com/images/villagers/thumb/pate.c60838c.png       1\n",
      "                                                                    ..\n",
      "https://villagerdb.com/images/villagers/thumb/elvis.57d4757.png      1\n",
      "https://villagerdb.com/images/villagers/thumb/eloise.112208b.png     1\n",
      "https://villagerdb.com/images/villagers/thumb/elmer.cc7df52.png      1\n",
      "https://villagerdb.com/images/villagers/thumb/ellie.5a144a6.png      1\n",
      "https://villagerdb.com/images/villagers/thumb/zucker.8dbb719.png     1\n",
      "Name: count, Length: 391, dtype: int64\n"
     ]
    }
   ],
   "source": [
    "# Frequency counts of unique values in each categorical column\n",
    "for column in villagers_df.select_dtypes(include=['object']).columns:\n",
    "    print(f\"\\nValue counts for column '{column}':\")\n",
    "    print(villagers_df[column].value_counts())\n"
   ]
  },
  {
   "cell_type": "code",
   "execution_count": null,
   "id": "1699710b",
   "metadata": {},
   "outputs": [],
   "source": [
    "The discrepancies between the dataset size given by df.shape and what is reported by df.describe is due to the fact that df.shape shows all columns, but df.describe only analyzes numerical columns by default. So, if the dataset contains both numerical and categorical data, df.describe will only summarize the numerical columns and because The \"count\" in df.describe shows the number of non-missing data for each column.\n",
    "#I used ChatGTP to explain me the concepts"
   ]
  },
  {
   "cell_type": "code",
   "execution_count": null,
   "id": "6d4150f2",
   "metadata": {},
   "outputs": [],
   "source": [
    "The attribute is a proprety of an object, and doesn't need brackets because it is simply stating that proprety while a method perform an action on an object."
   ]
  },
  {
   "cell_type": "code",
   "execution_count": null,
   "id": "fa8576d1",
   "metadata": {},
   "outputs": [],
   "source": [
    "\n",
    "\n",
    "Dataset size: We explored how to load a dataset and determine the number of rows and columns using df.shape.\n",
    "\n",
    "Observations and variables: I explained that observations are the rows (individual records), while variables are the columns (attributes or characteristics).\n",
    "\n",
    "Summarizing data: I provided code examples to summarize datasets using df.describe() for numerical data and value_counts() for categorical data.\n",
    "\n",
    "Discrepancies in summaries: I explained why the number of columns and the \"count\" values reported by df.describe() might differ from df.shape (due to missing data and the type of columns analyzed).\n",
    "\n",
    "Attributes vs. methods: I clarified that attributes like df.shape return stored information without parentheses, while methods like df.describe() are functions that require parentheses to perform an action."
   ]
  },
  {
   "cell_type": "code",
   "execution_count": null,
   "id": "a08120eb",
   "metadata": {},
   "outputs": [],
   "source": [
    "Count: The number of values in a column (except missing values).\n",
    "\n",
    "Mean: The average value of the data in a column.\n",
    "Std: The standard deviation, which measures how spread out the values are from the mean.\n",
    "25% : The value below which 25% of the data falls, also called the first quartile.\n",
    "50% : The middle value when the data is sorted in order, below which 50% of the data falls.\n",
    "75% : The value below which 75% of the data falls, indicating the third quartile.\n",
    "Max: The largest value in the column."
   ]
  },
  {
   "cell_type": "code",
   "execution_count": null,
   "id": "7255e315",
   "metadata": {},
   "outputs": [],
   "source": [
    "It's better to use df.dropna() over using del df['col'] to remove rows that contain missing values in any column to ensure that all rows have complete data\n",
    "Ex : A dataset of customer orders for an online shop and we need to remove rows with missing values in any column (e.g., missing product ID or customer name), we can use df.dropna() to clean the dataset while keeping all the columns."
   ]
  },
  {
   "cell_type": "code",
   "execution_count": null,
   "id": "242a5056",
   "metadata": {},
   "outputs": [],
   "source": [
    "On the contrary, it's better to use df['col'] for a column that contains mostly missing or irrelevant data, to completely remove that column from the dataset."
   ]
  },
  {
   "cell_type": "code",
   "execution_count": null,
   "id": "f3751a7f",
   "metadata": {},
   "outputs": [],
   "source": [
    "Removing irrelevant or unnecessary columns with del before using df.dropna() can be important because df.dropna() will remove rows that contain any missing values in any column. If we don't delete irrelevant columns first, we might unintentionally remove rows just because an irrelevant column has missing values.\n",
    "\n",
    "For example, if a column has lots of missing values but is not crucial for our analysis, applying df.dropna() before deleting the column could result in the loss of valuable data."
   ]
  },
  {
   "cell_type": "code",
   "execution_count": 3,
   "id": "7aaeb815",
   "metadata": {},
   "outputs": [
    {
     "name": "stdout",
     "output_type": "stream",
     "text": [
      "Before Cleanup:\n",
      "             row_n       id     name gender species birthday personality  \\\n",
      "count   391.000000      390      391    391     391      391         391   \n",
      "unique         NaN      390      391      2      35      361           8   \n",
      "top            NaN  admiral  Admiral   male     cat     1-27        lazy   \n",
      "freq           NaN        1        1    204      23        2          60   \n",
      "mean    239.902813      NaN      NaN    NaN     NaN      NaN         NaN   \n",
      "std     140.702672      NaN      NaN    NaN     NaN      NaN         NaN   \n",
      "min       2.000000      NaN      NaN    NaN     NaN      NaN         NaN   \n",
      "25%     117.500000      NaN      NaN    NaN     NaN      NaN         NaN   \n",
      "50%     240.000000      NaN      NaN    NaN     NaN      NaN         NaN   \n",
      "75%     363.500000      NaN      NaN    NaN     NaN      NaN         NaN   \n",
      "max     483.000000      NaN      NaN    NaN     NaN      NaN         NaN   \n",
      "\n",
      "                song   phrase           full_id  \\\n",
      "count            380      391               391   \n",
      "unique            92      388               391   \n",
      "top     K.K. Country  wee one  villager-admiral   \n",
      "freq              10        2                 1   \n",
      "mean             NaN      NaN               NaN   \n",
      "std              NaN      NaN               NaN   \n",
      "min              NaN      NaN               NaN   \n",
      "25%              NaN      NaN               NaN   \n",
      "50%              NaN      NaN               NaN   \n",
      "75%              NaN      NaN               NaN   \n",
      "max              NaN      NaN               NaN   \n",
      "\n",
      "                                                      url  \n",
      "count                                                 391  \n",
      "unique                                                391  \n",
      "top     https://villagerdb.com/images/villagers/thumb/...  \n",
      "freq                                                    1  \n",
      "mean                                                  NaN  \n",
      "std                                                   NaN  \n",
      "min                                                   NaN  \n",
      "25%                                                   NaN  \n",
      "50%                                                   NaN  \n",
      "75%                                                   NaN  \n",
      "max                                                   NaN  \n"
     ]
    }
   ],
   "source": [
    "import pandas as pd\n",
    "\n",
    "# Load the dataset from the given URL\n",
    "url = \"https://raw.githubusercontent.com/rfordatascience/tidytuesday/master/data/2020/2020-05-05/villagers.csv\"\n",
    "df = pd.read_csv(url)\n",
    "\n",
    "# Preview the initial state of the dataset\n",
    "print(\"Before Cleanup:\")\n",
    "print(df.describe(include='all'))\n",
    "\n",
    "# Clean-up approach: Drop any columns with all missing values\n",
    "df_cleaned = df.dropna(axis=1, how='all')\n",
    "\n",
    "# Justification:\n",
    "# Using df.dropna(axis=1, how='all') will remove columns where all the values are missing.\n",
    "\n",
    "\n",
    "\n",
    "\n"
   ]
  },
  {
   "cell_type": "code",
   "execution_count": 4,
   "id": "0588d39b",
   "metadata": {},
   "outputs": [
    {
     "name": "stdout",
     "output_type": "stream",
     "text": [
      "        count       mean        std   min   25%   50%   75%   max\n",
      "class                                                            \n",
      "First   186.0  38.233441  14.802856  0.92  27.0  37.0  49.0  80.0\n",
      "Second  173.0  29.877630  14.001077  0.67  23.0  29.0  36.0  70.0\n",
      "Third   355.0  25.140620  12.495398  0.42  18.0  24.0  32.0  74.0\n"
     ]
    }
   ],
   "source": [
    "import pandas as pd\n",
    "\n",
    "url = \"https://raw.githubusercontent.com/mwaskom/seaborn-data/master/titanic.csv\"\n",
    "df = pd.read_csv(url)\n",
    "grouped_description = df.groupby('class')['age'].describe()\n",
    "print(grouped_description)\n"
   ]
  },
  {
   "cell_type": "code",
   "execution_count": null,
   "id": "ef851a47",
   "metadata": {},
   "outputs": [],
   "source": [
    "\"\"\"\"\"\"\n",
    "I tried with 2.( chatbots (Microsoft Copilot, ChatGTP4o and ChatGTP1o, but the latter wasn't helpfull at all') and two engines (Google and Firefox). Generally, the chatbots outpermofed by far the search engines. They were more accurate, more user friendly (when I had a searched a code error on google, the answer was really vage while chatgtp was precise about the lines to correct), but interstingly the chatbots can be \"corrupted\" by previous data. For example, if I had error A, then B, then C, while correcting C he would still try to rewrite code that is only relevant for A, even if he had already corrected it."
   ]
  },
  {
   "cell_type": "code",
   "execution_count": null,
   "id": "ea746240",
   "metadata": {},
   "outputs": [],
   "source": []
  }
 ],
 "metadata": {
  "kernelspec": {
   "display_name": "Python 3 (ipykernel)",
   "language": "python",
   "name": "python3"
  },
  "language_info": {
   "codemirror_mode": {
    "name": "ipython",
    "version": 3
   },
   "file_extension": ".py",
   "mimetype": "text/x-python",
   "name": "python",
   "nbconvert_exporter": "python",
   "pygments_lexer": "ipython3",
   "version": "3.11.6"
  }
 },
 "nbformat": 4,
 "nbformat_minor": 5
}
