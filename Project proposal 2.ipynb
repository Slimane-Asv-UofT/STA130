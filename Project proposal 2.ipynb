{
 "cells": [
  {
   "cell_type": "markdown",
   "id": "7a4d6a08",
   "metadata": {},
   "source": [
    "**How does the amount of screen time per day impact sleep quality among university students?**\n",
    "\n",
    "**Variables:**\n",
    "\n",
    "\n",
    "**Screen Time (independent variable):** This variable will measure the total daily screen time in hours. The data will be categorized into different ranges (e.g., 0-2 hours, 2-4 hours, etc., up to 10+ hours). This will be the X variable in a Single Linear Regression model.\n",
    "\n",
    "- Histogram: A histogram showing the distribution of screen time among participants could provide insight into common usage patterns (x-axis: screen time ranges, y-axis: frequency of students in each range).\n",
    "\n",
    "\n",
    "**Sleep Quality (dependent variable):** This will be quantified using the number of hours of consecutive sleep, as well how easy it is to go to sleep. The good thing is, a lot of students have the same diet (food plan), so we can rule out the alimentation that might affect this variable. This score will be the Y variable in the linear regression model.\n",
    "\n",
    "-Box Plot: Box plots of sleep quality scores for each screen time category could help highlight any variability across different screen time groups.\n",
    "\n",
    "**Participant Characteristics (control variables):** Control variables might include age, academic workload, caffeine intake, and mental health status (e.g., stress levels).\n",
    "\n",
    "Collecting data on these factors can help isolate the effect of screen time on sleep quality, allowing us to see if students with different levels of stress, caffeine intake, etc., show different patterns.\n",
    "\n",
    "**Analysis and Methods:**\n",
    "\n",
    "Hypothesis Testing:\n",
    "We will test the hypothesis that higher screen time is associated with poorer sleep quality, aiming to reject the null hypothesis that screen time has no effect on sleep quality.\n",
    "\n",
    "Linear Regression Analysis:\n",
    "We will perform a simple linear regression to determine the relationship between screen time and sleep quality scores. This will help evaluate if there is a linear trend in the effect of screen time on sleep.\n",
    "\n",
    "Control Analysis:\n",
    "We will also analyze subsets of students based on high and low levels of stress or caffeine intake to see if these factors influence the relationship between screen time and sleep quality. This additional control may reveal if the observed effects are consistent across different types of students.\n",
    "\n"
   ]
  }
 ],
 "metadata": {
  "kernelspec": {
   "display_name": "Python 3 (ipykernel)",
   "language": "python",
   "name": "python3"
  },
  "language_info": {
   "codemirror_mode": {
    "name": "ipython",
    "version": 3
   },
   "file_extension": ".py",
   "mimetype": "text/x-python",
   "name": "python",
   "nbconvert_exporter": "python",
   "pygments_lexer": "ipython3",
   "version": "3.11.6"
  }
 },
 "nbformat": 4,
 "nbformat_minor": 5
}
