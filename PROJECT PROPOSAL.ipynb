{
 "cells": [
  {
   "cell_type": "markdown",
   "id": "c277a46d",
   "metadata": {},
   "source": [
    "**How does the beats per minute (BPM) of background noise affect an individual's capacity to memorize information?**\n",
    "We want to check if there is a **correlation** between the BPM of a background sound and memorization capacity\n",
    "\n",
    "\n",
    "**Variables :**\n",
    "\n",
    " \n",
    "**BPM of Background Music (independent variable):** This variable will be categorized into different BPM ranges who will serve as the X variable in a Single Linear Regression model. The increament will be by 10, from 40 to 130 (so 10 different BPM).\n",
    "-A histogram to illustrate average memorization scores across different BPM ranges would help visualize any patterns (x axis : BPM, y axis : percentage of correct answers).\n",
    "\n",
    "**Memorization Capacity (dependent variable):** This will be measured through a memorization test, with a preset video with items (i.e. :numbers) defiling . Scores will represent the number of items correctly remembered in percentage. This will be the Y variable in a Single Linear Regression model.\n",
    "-Box plots for each BPM range because it would highlight any variability.\n",
    "\n",
    "**Participant Characteristics (control variables):** Age, music preference, and living environment (i.e: if someone likes EDM, he might not get as affected by high BPM as a fan of lofi). To control this and potentially eliminate any \"abnormal\" individual, I was planning on testing each individual with no backgound sound, then check if the difference follos a pattern.\n",
    "\n",
    "**Analysis and Methods:**\n",
    "\n",
    "**Hypothesis Testing:** We will start with hypothesis testing to evaluate whether BPM significantly affects memorization capacity, aiming to reject the null hypothesis that BPM has no impact on memorization scores.\n",
    "\n",
    "**Linear Regression Analysis:** A simple linear regression will model the relationship between BPM and memorization capacity. This method allows us to assess if there is a linear trend in how different BPM levels influence memory retention.\n",
    "\n",
    "**Control Analysis:** After establishing the main effect of BPM, we will examine individual responses with and without background noise to control for anomalies based on personal characteristics. This comparison will help verify if memorization performance is consistent or if some participants deviate due to their preferences or living environment.\n",
    "\n",
    "I.E : A fan of hardcore metal who likes to listen to music while studying has an abnormaly high percentage with high BPM.\n",
    "\n",
    "I hypothesis that the Simple Linear Regression Model will look something along the lines of y = -ax + b, the percent rate being inversly proportionnal to the BPM."
   ]
  },
  {
   "cell_type": "code",
   "execution_count": null,
   "id": "ab50b770",
   "metadata": {},
   "outputs": [],
   "source": []
  }
 ],
 "metadata": {
  "kernelspec": {
   "display_name": "Python 3 (ipykernel)",
   "language": "python",
   "name": "python3"
  },
  "language_info": {
   "codemirror_mode": {
    "name": "ipython",
    "version": 3
   },
   "file_extension": ".py",
   "mimetype": "text/x-python",
   "name": "python",
   "nbconvert_exporter": "python",
   "pygments_lexer": "ipython3",
   "version": "3.11.6"
  }
 },
 "nbformat": 4,
 "nbformat_minor": 5
}
